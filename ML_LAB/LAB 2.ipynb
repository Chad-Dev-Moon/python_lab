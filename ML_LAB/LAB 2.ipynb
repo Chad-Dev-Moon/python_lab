{
 "cells": [
  {
   "cell_type": "markdown",
   "id": "f89d6879-4424-420d-a754-ced149db92ff",
   "metadata": {},
   "source": [
    "# LAB 2 - making decision tree from scratch"
   ]
  },
  {
   "attachments": {},
   "cell_type": "markdown",
   "id": "d9341738-7fd1-43ec-ad49-c8e046a305a0",
   "metadata": {},
   "source": [
    "## DATA to work with\n",
    "![DTD IMAGE](./DecisionTreeData.jpg)"
   ]
  },
  {
   "cell_type": "code",
   "execution_count": null,
   "id": "a068ff31-3416-49fe-86ff-6537eef3b56f",
   "metadata": {},
   "outputs": [],
   "source": []
  }
 ],
 "metadata": {
  "kernelspec": {
   "display_name": "Python 3 (ipykernel)",
   "language": "python",
   "name": "python3"
  },
  "language_info": {
   "codemirror_mode": {
    "name": "ipython",
    "version": 3
   },
   "file_extension": ".py",
   "mimetype": "text/x-python",
   "name": "python",
   "nbconvert_exporter": "python",
   "pygments_lexer": "ipython3",
   "version": "3.12.4"
  }
 },
 "nbformat": 4,
 "nbformat_minor": 5
}
